{
  "nbformat": 4,
  "nbformat_minor": 0,
  "metadata": {
    "colab": {
      "provenance": [],
      "machine_shape": "hm"
    },
    "kernelspec": {
      "name": "python3",
      "display_name": "Python 3"
    },
    "language_info": {
      "name": "python"
    },
    "accelerator": "TPU"
  },
  "cells": [
    {
      "cell_type": "code",
      "execution_count": 7,
      "metadata": {
        "id": "BvAKqpi9HQWD"
      },
      "outputs": [],
      "source": [
        "import pandas as pd\n",
        "import numpy as np\n",
        "import warnings\n",
        "warnings.filterwarnings(\"ignore\")\n",
        "import seaborn as sns\n",
        "import matplotlib.pyplot as plt\n",
        "from sklearn.model_selection import train_test_split\n",
        "from sklearn import preprocessing"
      ]
    },
    {
      "cell_type": "code",
      "source": [
        "data = pd.read_excel('/content/Dry_Bean_Dataset.xlsx')\n",
        "\n",
        "# selected variable from GUI\n",
        "select_feature=['Area','Perimeter']\n",
        "select_class=['BOMBAY','CALI']\n",
        "select_eta=0.01\n",
        "select_epoch=100\n",
        "select_mse_thre=0.001\n",
        "select_bias=True\n",
        "\n",
        "filter_data=data[data['Class'].isin(select_class)]\n",
        "X=filter_data[select_feature]\n",
        "y=filter_data['Class']\n",
        "\n",
        "X = (X - X.min()) / (X.max() - X.min())\n",
        "\n",
        "X_train, X_test, y_train, y_test = train_test_split(X, y, test_size=0.40, random_state=42)\n",
        "label_encoder = preprocessing.LabelEncoder()\n",
        "y_train = label_encoder.fit_transform(y_train)\n",
        "y_test = label_encoder.fit_transform(y_test)"
      ],
      "metadata": {
        "id": "RF6DhQScH_Zj"
      },
      "execution_count": 8,
      "outputs": []
    },
    {
      "cell_type": "markdown",
      "source": [
        "***Perceptron learning algorithm\n",
        "***"
      ],
      "metadata": {
        "id": "bXetEasDKsHY"
      }
    },
    {
      "cell_type": "code",
      "source": [
        "import numpy as np\n",
        "from sklearn.metrics import mean_squared_error, accuracy_score\n",
        "\n",
        "class Perceptron:\n",
        "    def __init__(self, select_eta, select_epoch, select_mse_thre, select_bias):\n",
        "        self.select_eta = select_eta\n",
        "        self.select_epoch = select_epoch\n",
        "        self.select_mse_thre = select_mse_thre\n",
        "        self.select_bias = select_bias\n",
        "\n",
        "    def signum(self, x):\n",
        "        return np.where(x >= 0, 1, 0)\n",
        "\n",
        "    def calculate_mse(self, y_true, y_pred):\n",
        "        return np.mean((y_true - y_pred) ** 2)\n",
        "\n",
        "    def calculate_accuracy(self, y_true, y_pred):\n",
        "        return np.mean(y_true == y_pred)\n",
        "\n",
        "    def fit(self, X, y):\n",
        "        # Initialize the weights\n",
        "        if self.select_bias:\n",
        "            X = np.c_[np.ones(X.shape[0]), X]\n",
        "        else:\n",
        "            X = np.c_[np.zeros(X.shape[0]), X]\n",
        "\n",
        "        self.weights = np.random.rand(X.shape[1])\n",
        "        mse_list = []  # to store MSE values during training\n",
        "\n",
        "        for i in range(self.select_epoch):\n",
        "            net_value = np.dot(X, self.weights)\n",
        "            Pred_output=self.signum(net_value)\n",
        "            error = y - Pred_output\n",
        "\n",
        "            #mse = mean_squared_error(y, Pred_output)\n",
        "            #mse_list.append(mse)\n",
        "\n",
        "            mse = self.calculate_mse(y, Pred_output)\n",
        "            mse_list.append(mse)\n",
        "\n",
        "            self.weights += self.select_eta * np.dot(X.T, error)\n",
        "\n",
        "            if mse < self.select_mse_thre:\n",
        "                break\n",
        "\n",
        "        return mse_list\n",
        "\n",
        "    def predict(self, X):\n",
        "\n",
        "        if self.select_bias:\n",
        "            X = np.c_[np.ones(X.shape[0]), X]\n",
        "        else:\n",
        "            X = np.c_[np.zeros(X.shape[0]), X]\n",
        "\n",
        "        net_value = np.dot(X, self.weights)\n",
        "        Pred_output = self.signum(net_value)\n",
        "\n",
        "        return Pred_output"
      ],
      "metadata": {
        "id": "nvVfRXKdDJm-"
      },
      "execution_count": 41,
      "outputs": []
    },
    {
      "cell_type": "code",
      "source": [
        "# Train the model\n",
        "model = Perceptron(0.001, 100, 0.001, True)\n",
        "mse_list = model.fit(X_train, y_train) #return error in train\n",
        "y_pred = model.predict(X_test)\n",
        "\n",
        "final_mse = mse_list[-1]\n",
        "print(f'Final Mean Squared Error for train (MSE): {final_mse:.6f}')\n",
        "\n",
        "# Calculate and print accuracy\n",
        "accuracy = accuracy_score(y_test, y_pred)\n",
        "print(f'Accuracy: {accuracy * 100:.2f}%')\n"
      ],
      "metadata": {
        "colab": {
          "base_uri": "https://localhost:8080/"
        },
        "id": "n94cf7plG-pn",
        "outputId": "7475a20d-b04a-4ded-baa0-a52811bce9b4"
      },
      "execution_count": 44,
      "outputs": [
        {
          "output_type": "stream",
          "name": "stdout",
          "text": [
            "Final Mean Squared Error for train (MSE): 0.000000\n",
            "Accuracy: 100.00%\n"
          ]
        }
      ]
    },
    {
      "cell_type": "code",
      "source": [
        "def plot():\n",
        "\n",
        "  #plt.scatter(X_train['Area'], X_train['Perimeter'], c=y_train, cmap='viridis', label='Training Data')\n",
        "\n",
        "  # Scatter testing data\n",
        "  plt.scatter(X_test['Area'], X_test['Perimeter'], c=y_test, cmap='viridis', marker='x', label='Testing Data')\n",
        "\n",
        "  # Draw the decision boundary line\n",
        "  w1, w2 = model.weights[1:]\n",
        "  b = model.weights[0]\n",
        "  x_line = np.linspace(np.min(X_train['Perimeter']), np.max(X_train['Perimeter']), num=100)\n",
        "  y_line = -(w1 * x_line + b) / w2\n",
        "\n",
        "  plt.plot(x_line, y_line, color='red')\n",
        "\n",
        "  plt.xlabel('Area')\n",
        "  plt.ylabel('Perimeter')\n",
        "  plt.title('Perceptron Classifier')\n",
        "  plt.legend()\n",
        "  return plt.show()\n",
        "\n",
        "plot()"
      ],
      "metadata": {
        "colab": {
          "base_uri": "https://localhost:8080/",
          "height": 472
        },
        "id": "W2C__d9DJppK",
        "outputId": "cb5c3eaf-3059-49cf-81b7-00b786580a30"
      },
      "execution_count": 45,
      "outputs": [
        {
          "output_type": "display_data",
          "data": {
            "text/plain": [
              "<Figure size 640x480 with 1 Axes>"
            ],
            "image/png": "[encoded data removed]"
          },
          "metadata": {}
        }
      ]
    },
    {
      "cell_type": "code",
      "source": [
        "# sample features\n",
        "#sample_features= sample_features.pd.DataFrame([[126503, 1326.959], [49245, 822.642]])\n",
        "sample_features = np.array([[126503, 1326.959], [49245, 822.642]])\n",
        "\n",
        "\n",
        "#sample_features = (sample_features - X.min()) / (X.max() - X.min())\n",
        "\n",
        "y_out = model.predict(sample_features)\n",
        "\n",
        "print(\"Net Value:\", np.dot(np.c_[np.ones(sample_features.shape[0]), sample_features], model.weights))\n",
        "\n",
        "print(\"Actual Output:\", model.signum(np.dot(np.c_[np.ones(sample_features.shape[0]), sample_features], model.weights)))\n",
        "\n",
        "print(\"y:\",y_out)\n",
        "\n",
        "accuracy = model.calculate_accuracy(y_test, y_pred)\n",
        "print(f'Accuracy test: {accuracy * 100:.2f}%')\n"
      ],
      "metadata": {
        "colab": {
          "base_uri": "https://localhost:8080/"
        },
        "id": "Tbo5QDkDJsmd",
        "outputId": "1d168f89-8551-46d6-9fb4-7ec956416055"
      },
      "execution_count": 46,
      "outputs": [
        {
          "output_type": "stream",
          "name": "stdout",
          "text": [
            "Net Value: [-7487.26862876 -2910.7724167 ]\n",
            "Actual Output: [0 0]\n",
            "y: [0 0]\n",
            "Accuracy test: 100.00%\n"
          ]
        }
      ]
    },
    {
      "cell_type": "code",
      "source": [
        "\"\"\"import numpy as np\n",
        "\n",
        "sample_features = np.array([[126503, 1326.959]])\n",
        "#, [49245, 822.642]\n",
        "# Reshape sample_features to 1-dimensional array\n",
        "sample_features = sample_features.flatten()\n",
        "\n",
        "# Normalize the data\n",
        "sample_features = (sample_features - X.min()) / (X.max() - X.min())\n",
        "\n",
        "# Add bias term\n",
        "sample_features_with_bias = np.concatenate(([1], sample_features))\n",
        "\n",
        "# Adjust the shape of model.weights\n",
        "model_weights = model.weights.reshape(-1, 1)\n",
        "\n",
        "# Calculate Net Value\n",
        "net_value = np.dot(sample_features_with_bias, model_weights)\n",
        "print(\"Net Value:\", net_value)\n",
        "\n",
        "# Calculate Actual Output\n",
        "actual_output = model.signum(sample_features_with_bias, model_weights)\n",
        "print(\"Actual Output:\", actual_output)\n",
        "\n",
        "y_out = model.predict(sample_features)\n",
        "print(\"y:\", y_out)\n",
        "\n",
        "accuracy = model.calculate_accuracy(y_test, y_pred)\n",
        "print(f'Accuracy test: {accuracy * 100:.2f}%')\"\"\""
      ],
      "metadata": {
        "colab": {
          "base_uri": "https://localhost:8080/",
          "height": 262
        },
        "id": "NWeiUxXZPom_",
        "outputId": "503a16b4-2536-4231-d371-441dff9c9471"
      },
      "execution_count": 34,
      "outputs": [
        {
          "output_type": "stream",
          "name": "stdout",
          "text": [
            "Net Value: [-3339.58039461]\n"
          ]
        },
        {
          "output_type": "error",
          "ename": "TypeError",
          "evalue": "ignored",
          "traceback": [
            "\u001b[0;31m---------------------------------------------------------------------------\u001b[0m",
            "\u001b[0;31mTypeError\u001b[0m                                 Traceback (most recent call last)",
            "\u001b[0;32m<ipython-input-34-8fbc4289793f>\u001b[0m in \u001b[0;36m<cell line: 22>\u001b[0;34m()\u001b[0m\n\u001b[1;32m     20\u001b[0m \u001b[0;34m\u001b[0m\u001b[0m\n\u001b[1;32m     21\u001b[0m \u001b[0;31m# Calculate Actual Output\u001b[0m\u001b[0;34m\u001b[0m\u001b[0;34m\u001b[0m\u001b[0m\n\u001b[0;32m---> 22\u001b[0;31m \u001b[0mactual_output\u001b[0m \u001b[0;34m=\u001b[0m \u001b[0mmodel\u001b[0m\u001b[0;34m.\u001b[0m\u001b[0msignum\u001b[0m\u001b[0;34m(\u001b[0m\u001b[0msample_features_with_bias\u001b[0m\u001b[0;34m,\u001b[0m \u001b[0mmodel_weights\u001b[0m\u001b[0;34m)\u001b[0m\u001b[0;34m\u001b[0m\u001b[0;34m\u001b[0m\u001b[0m\n\u001b[0m\u001b[1;32m     23\u001b[0m \u001b[0mprint\u001b[0m\u001b[0;34m(\u001b[0m\u001b[0;34m\"Actual Output:\"\u001b[0m\u001b[0;34m,\u001b[0m \u001b[0mactual_output\u001b[0m\u001b[0;34m)\u001b[0m\u001b[0;34m\u001b[0m\u001b[0;34m\u001b[0m\u001b[0m\n\u001b[1;32m     24\u001b[0m \u001b[0;34m\u001b[0m\u001b[0m\n",
            "\u001b[0;31mTypeError\u001b[0m: Perceptron.signum() takes 2 positional arguments but 3 were given"
          ]
        }
      ]
    },
    {
      "cell_type": "code",
      "source": [
        "def calculate_confusion_matrix(actual, predicted):\n",
        "    tp = np.sum((actual == 1) & (predicted == 1))\n",
        "    tn = np.sum((actual == 0) & (predicted == 0))\n",
        "    fp = np.sum((actual == 0) & (predicted == 1))\n",
        "    fn = np.sum((actual == 1) & (predicted == 0))\n",
        "    return tp, tn, fp, fn\n",
        "tp, tn, fp, fn = calculate_confusion_matrix(y_test, y_pred)\n",
        "\n",
        "# Print confusion matrix\n",
        "print(\"Confusion Matrix:\")\n",
        "print(f\"True Positives (TP): {tp}\")\n",
        "print(f\"True Negatives (TN): {tn}\")\n",
        "print(f\"False Positives (FP): {fp}\")\n",
        "print(f\"False Negatives (FN): {fn}\")"
      ],
      "metadata": {
        "id": "sBu5YDH6S_5N",
        "outputId": "e689aac1-e66b-419d-cf7c-b9181f6ee609",
        "colab": {
          "base_uri": "https://localhost:8080/"
        }
      },
      "execution_count": 47,
      "outputs": [
        {
          "output_type": "stream",
          "name": "stdout",
          "text": [
            "Confusion Matrix:\n",
            "True Positives (TP): 17\n",
            "True Negatives (TN): 23\n",
            "False Positives (FP): 0\n",
            "False Negatives (FN): 0\n"
          ]
        }
      ]
    },
    {
      "cell_type": "code",
      "source": [],
      "metadata": {
        "id": "qPzEgVcpLxQw"
      },
      "execution_count": null,
      "outputs": []
    }
  ]
}