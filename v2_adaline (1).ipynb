{
  "nbformat": 4,
  "nbformat_minor": 0,
  "metadata": {
    "colab": {
      "provenance": [],
      "machine_shape": "hm"
    },
    "kernelspec": {
      "name": "python3",
      "display_name": "Python 3"
    },
    "language_info": {
      "name": "python"
    },
    "accelerator": "TPU"
  },
  "cells": [
    {
      "cell_type": "code",
      "execution_count": 125,
      "metadata": {
        "id": "BvAKqpi9HQWD"
      },
      "outputs": [],
      "source": [
        "import pandas as pd\n",
        "import numpy as np\n",
        "import warnings\n",
        "warnings.filterwarnings(\"ignore\")\n",
        "import seaborn as sns\n",
        "import matplotlib.pyplot as plt\n",
        "from sklearn.model_selection import train_test_split\n",
        "from sklearn import preprocessing"
      ]
    },
    {
      "cell_type": "code",
      "source": [
        "data = pd.read_excel('/content/Dry_Bean_Dataset.xlsx')\n",
        "\n",
        "#select_feature=['roundnes','MajorAxisLength']\n",
        "select_feature=['Area', 'Perimeter']\n",
        "select_class=['BOMBAY','CALI']\n",
        "select_eta=0.0001\n",
        "select_epoch=200\n",
        "select_mse_thre=0.001\n",
        "select_bias=True\n",
        "\n",
        "filter_data = data[data['Class'].isin(select_class)]\n",
        "X= filter_data[select_feature]\n",
        "y= filter_data['Class']\n",
        "X = (X - X.min()) / (X.max() - X.min())\n",
        "\n",
        "X_train, X_test, y_train, y_test = train_test_split(X, y, test_size=0.40, random_state=42)\n",
        "\n",
        "label_encoder = preprocessing.LabelEncoder()\n",
        "y_train = label_encoder.fit_transform(y_train)\n",
        "y_test = label_encoder.fit_transform(y_test)"
      ],
      "metadata": {
        "id": "pEiAPKxpKOVs"
      },
      "execution_count": 126,
      "outputs": []
    },
    {
      "cell_type": "code",
      "source": [
        "data.columns"
      ],
      "metadata": {
        "colab": {
          "base_uri": "https://localhost:8080/"
        },
        "id": "NgGmRH-E-N8i",
        "outputId": "173c3fe8-280d-4248-d010-445e65859d45"
      },
      "execution_count": 98,
      "outputs": [
        {
          "output_type": "execute_result",
          "data": {
            "text/plain": [
              "Index(['Area', 'Perimeter', 'MajorAxisLength', 'MinorAxisLength', 'roundnes',\n",
              "       'Class'],\n",
              "      dtype='object')"
            ]
          },
          "metadata": {},
          "execution_count": 98
        }
      ]
    },
    {
      "cell_type": "markdown",
      "source": [
        "***Perceptron learning algorithm\n",
        "***"
      ],
      "metadata": {
        "id": "bXetEasDKsHY"
      }
    },
    {
      "cell_type": "code",
      "source": [
        "\"\"\"from sklearn.metrics import mean_squared_error, accuracy_score\n",
        "class Adaline:\n",
        "    def __init__(self, select_eta, select_epoch, select_mse_thre,select_bias):\n",
        "        self.select_eta = select_eta\n",
        "        self.select_epoch=select_epoch\n",
        "        self.select_mse_thre=select_mse_thre\n",
        "        self.select_bias=select_bias\n",
        "\n",
        "    def act_linear(self,x):\n",
        "      return x\n",
        "\n",
        "    def fit(self, X, y):\n",
        "        # Initialize the weights and Add_bias\n",
        "        if self.select_bias:\n",
        "           X = np.c_[np.ones(X.shape[0]), X]\n",
        "        else:\n",
        "           X = np.c_[np.zeros(X.shape[0]), X]\n",
        "\n",
        "        self.weights = np.random.rand(X.shape[1])\n",
        "        mse_list = []\n",
        "\n",
        "        for i in range(self.select_epoch):\n",
        "\n",
        "            net_value = np.dot(X, self.weights)\n",
        "\n",
        "            predic_output =self.act_linear(net_value)\n",
        "            error = y - predic_output\n",
        "\n",
        "            mse = mean_squared_error(y, predic_output)\n",
        "            mse_list.append(mse)\n",
        "\n",
        "           # mse = np.mean(error ** 2)\n",
        "            #mse_list.append(mse)\n",
        "\n",
        "            # Update the weights\n",
        "            self.weights += self.select_eta * np.dot(X.T, error)\n",
        "\n",
        "            # if MSE threshold found\n",
        "            if mse < self.select_mse_thre:\n",
        "                break\n",
        "\n",
        "        return mse_list\n",
        "\n",
        "    def predict(self, X):\n",
        "        # Add bias term to the features\n",
        "        if self.select_bias:\n",
        "          X = np.c_[np.ones(X.shape[0]), X]\n",
        "        else:\n",
        "          X = np.c_[np.zeros(X.shape[0]), X]\n",
        "\n",
        "        # Calculate the net value\n",
        "        net_value = np.dot(X, self.weights)\n",
        "        net_value = np.where(net_value >= 0.5, 1, 0)\n",
        "\n",
        "        # Calculate the actual output\n",
        "        predic_output =self.act_linear(net_value)\n",
        "        return predic_output\n",
        "\n",
        "\n",
        "# Train the model\n",
        "model = Adaline(0.001,70,0.001,True)\n",
        "mse_list = model.fit(X_train, y_train)\n",
        "y_pred = model.predict(X_test)\n",
        "\n",
        "final_mse = mse_list[-1]\n",
        "print(f'Final Mean Squared Error for train (MSE): {final_mse}')\n",
        "\n",
        "accuracy = accuracy_score(y_test, y_pred)\n",
        "print(f'Accuracy test: {accuracy * 100:.2f}%')\"\"\""
      ],
      "metadata": {
        "id": "nvVfRXKdDJm-",
        "outputId": "63c4a9a5-509e-48ef-9ad7-5d2aa5a36a46",
        "colab": {
          "base_uri": "https://localhost:8080/"
        }
      },
      "execution_count": 106,
      "outputs": [
        {
          "output_type": "stream",
          "name": "stdout",
          "text": [
            "Final Mean Squared Error for train (MSE): 0.06883899101331488\n",
            "Accuracy test: 100.00%\n"
          ]
        }
      ]
    },
    {
      "cell_type": "code",
      "source": [
        "class Adaline:\n",
        "    def __init__(self, select_eta, select_epoch, select_mse_thre, select_bias):\n",
        "        self.select_eta = select_eta\n",
        "        self.select_epoch = select_epoch\n",
        "        self.select_mse_thre = select_mse_thre\n",
        "        self.select_bias = select_bias\n",
        "\n",
        "    def act_linear(self, x):\n",
        "        return x\n",
        "\n",
        "    def calculate_mse(self, y_true, y_pred):\n",
        "        return np.mean((y_true - y_pred) ** 2)\n",
        "\n",
        "    def calculate_accuracy(self, y_true, y_pred):\n",
        "        return np.mean(y_true == y_pred)\n",
        "\n",
        "    def fit(self, X, y):\n",
        "        # Initialize the weights and Add_bias\n",
        "        if self.select_bias:\n",
        "            X = np.c_[np.ones(X.shape[0]), X]\n",
        "        else:\n",
        "            X = np.c_[np.zeros(X.shape[0]), X]\n",
        "\n",
        "        self.weights = np.random.rand(X.shape[1])\n",
        "        mse_list = []\n",
        "\n",
        "        for i in range(self.select_epoch):\n",
        "            net_value = np.dot(X, self.weights)\n",
        "            predic_output = self.act_linear(net_value)\n",
        "            error = y - predic_output\n",
        "\n",
        "            mse = self.calculate_mse(y, predic_output)\n",
        "            mse_list.append(mse)\n",
        "\n",
        "            self.weights += self.select_eta * np.dot(X.T, error)\n",
        "\n",
        "            # if MSE threshold found\n",
        "            if mse < self.select_mse_thre:\n",
        "                break\n",
        "\n",
        "        return mse_list\n",
        "\n",
        "    def predict(self, X):\n",
        "        # Add bias term to the features\n",
        "        if self.select_bias:\n",
        "            X = np.c_[np.ones(X.shape[0]), X]\n",
        "        else:\n",
        "            X = np.c_[np.zeros(X.shape[0]), X]\n",
        "\n",
        "        # Calculate the net value\n",
        "        net_value = np.dot(X, self.weights)\n",
        "        net_value = np.where(net_value >= 0.5, 1, 0)\n",
        "\n",
        "        # Calculate the actual output\n",
        "        predic_output = self.act_linear(net_value)\n",
        "        return predic_output\n"
      ],
      "metadata": {
        "id": "SBq63Xdw_oNq"
      },
      "execution_count": 127,
      "outputs": []
    },
    {
      "cell_type": "code",
      "source": [
        "# Train the model\n",
        "model = Adaline(0.01, 100, 0.01, True)\n",
        "mse_list = model.fit(X_train, y_train)\n",
        "y_pred = model.predict(X_test)\n",
        "\n",
        "final_mse = mse_list[-1]\n",
        "print(f'Final Mean Squared Error for train (MSE): {final_mse}')\n",
        "\n",
        "accuracy = model.calculate_accuracy(y_test, y_pred)\n",
        "print(f'Accuracy test: {accuracy * 100:.2f}%')"
      ],
      "metadata": {
        "colab": {
          "base_uri": "https://localhost:8080/"
        },
        "id": "mtbQ9J6BBHrX",
        "outputId": "f1af8707-6635-487b-9741-7d51af4a2c1e"
      },
      "execution_count": 128,
      "outputs": [
        {
          "output_type": "stream",
          "name": "stdout",
          "text": [
            "Final Mean Squared Error for train (MSE): 0.009922498459610721\n",
            "Accuracy test: 100.00%\n"
          ]
        }
      ]
    },
    {
      "cell_type": "code",
      "source": [
        "def plot():\n",
        "\n",
        "  #plt.scatter(X_train['Area'], X_train['Perimeter'], c=y_train, cmap='viridis', label='Training Data')\n",
        "\n",
        "  # Scatter testing data\n",
        "  plt.scatter(X_test['Area'], X_test['Perimeter'], c=y_test, cmap='viridis', marker='x', label='Testing Data')\n",
        "\n",
        "  # Draw the decision boundary line\n",
        "  w1, w2 = model.weights[1:]\n",
        "  b = model.weights[0]\n",
        "  x_line = np.linspace(np.min(X_train['Perimeter']), np.max(X_train['Perimeter']), num=100)\n",
        "  y_line = -(w1 * x_line + b) / w2\n",
        "\n",
        "  plt.plot(x_line, y_line, color='red')\n",
        "\n",
        "  plt.xlabel('Area')\n",
        "  plt.ylabel('Perimeter')\n",
        "  plt.title('Adaline Classifier')\n",
        "  plt.legend()\n",
        "  return plt.show()\n",
        "\n",
        "plot()"
      ],
      "metadata": {
        "colab": {
          "base_uri": "https://localhost:8080/",
          "height": 472
        },
        "id": "z-mb8q76Gzc3",
        "outputId": "fc5146f2-acda-4e08-a05a-22f1566a597e"
      },
      "execution_count": 124,
      "outputs": [
        {
          "output_type": "display_data",
          "data": {
            "text/plain": [
              "<Figure size 640x480 with 1 Axes>"
            ],
            "image/png": "[encoded data removed]"
          },
          "metadata": {}
        }
      ]
    },
    {
      "cell_type": "markdown",
      "source": [
        "***test***"
      ],
      "metadata": {
        "id": "Lak5Wqe-kfBc"
      }
    },
    {
      "cell_type": "code",
      "source": [
        "# sample features\n",
        "sample_features = np.array([[0.885487133728734, 509.410076766318], [0.850974352963791, 353.577349087887]])\n",
        "\n",
        "class_ids = model.predict(sample_features)\n",
        "\n",
        "print(\"Net Value:\", np.dot(np.c_[np.ones(sample_features.shape[0]), sample_features], model.weights))\n",
        "\n",
        "print(\"Actual Output:\", model.act_linear(np.dot(np.c_[np.ones(sample_features.shape[0]), sample_features], model.weights)))\n",
        "\n",
        "print(\"Class IDs:\",class_ids)\n",
        "\n",
        "accuracy = model.calculate_accuracy(y_test, y_pred)\n",
        "print(f'Accuracy test: {accuracy * 100:.2f}%')\n"
      ],
      "metadata": {
        "colab": {
          "base_uri": "https://localhost:8080/"
        },
        "id": "gcyFtRBJn0Ie",
        "outputId": "4ea54986-ab4a-43a7-b330-9fe5920dd6cc"
      },
      "execution_count": 117,
      "outputs": [
        {
          "output_type": "stream",
          "name": "stdout",
          "text": [
            "Net Value: [-249.73089769 -173.15492898]\n",
            "Actual Output: [-249.73089769 -173.15492898]\n",
            "Class IDs: [0 0]\n",
            "Accuracy test: 100.00%\n"
          ]
        }
      ]
    },
    {
      "cell_type": "markdown",
      "source": [
        "***evaluate***"
      ],
      "metadata": {
        "id": "Wze5OK22ocoa"
      }
    },
    {
      "cell_type": "code",
      "source": [
        "def calculate_confusion_matrix(actual, predicted):\n",
        "    tp = np.sum((actual == 1) & (predicted == 1))\n",
        "    tn = np.sum((actual == 0) & (predicted == 0))\n",
        "    fp = np.sum((actual == 0) & (predicted == 1))\n",
        "    fn = np.sum((actual == 1) & (predicted == 0))\n",
        "    return tp, tn, fp, fn\n",
        "\n",
        "tp, tn, fp, fn = calculate_confusion_matrix(y_test, y_pred)\n",
        "\n",
        "print(\"Confusion Matrix:\")\n",
        "print(f\"True Positives (TP): {tp}\")\n",
        "print(f\"True Negatives (TN): {tn}\")\n",
        "print(f\"False Positives (FP): {fp}\")\n",
        "print(f\"False Negatives (FN): {fn}\")\n"
      ],
      "metadata": {
        "colab": {
          "base_uri": "https://localhost:8080/"
        },
        "id": "XcEVbETHn8MF",
        "outputId": "9cc288c7-5c5d-4b35-db26-730ab8c9db41"
      },
      "execution_count": 118,
      "outputs": [
        {
          "output_type": "stream",
          "name": "stdout",
          "text": [
            "Confusion Matrix:\n",
            "True Positives (TP): 17\n",
            "True Negatives (TN): 23\n",
            "False Positives (FP): 0\n",
            "False Negatives (FN): 0\n"
          ]
        }
      ]
    },
    {
      "cell_type": "code",
      "source": [],
      "metadata": {
        "id": "KYCzOavAFZi_"
      },
      "execution_count": null,
      "outputs": []
    }
  ]
}